{
 "cells": [
  {
   "cell_type": "code",
   "execution_count": 6,
   "metadata": {},
   "outputs": [
    {
     "name": "stdout",
     "output_type": "stream",
     "text": [
      "Caculate square number\n",
      "square: 4\n",
      "square: 16\n",
      "square: 36\n",
      "square: 64\n",
      "Caculate cube number\n",
      "cube: 8\n",
      "cube: 64\n",
      "cube: 216\n",
      "cube: 512\n",
      "Time:  1.6486537456512451\n"
     ]
    }
   ],
   "source": [
    "# Test code song song\n",
    "import time\n",
    "\n",
    "def cal_square(number_arr):\n",
    "    print('Caculate square number')\n",
    "    for n in number_arr:\n",
    "        time.sleep(0.2)\n",
    "        print('square:', n * n)\n",
    "\n",
    "def cal_cube(number_arr):\n",
    "    print('Caculate cube number')\n",
    "    for n in number_arr:\n",
    "        time.sleep(0.2)\n",
    "        print('cube:', n * n * n)\n",
    "\n",
    "arr = [2, 4, 6, 8]\n",
    "t = time.time()\n",
    "cal_square(arr)\n",
    "cal_cube(arr)\n",
    "print(\"Time: \", time.time() - t)"
   ]
  },
  {
   "cell_type": "code",
   "execution_count": 4,
   "metadata": {},
   "outputs": [
    {
     "name": "stdout",
     "output_type": "stream",
     "text": [
      "Caculate square number\n",
      "\n",
      "Caculate cube number\n",
      "\n",
      "square: 9\n",
      "cube: 13\n",
      "square: 21\n",
      "cube: 69\n",
      "cube:square: 41\n",
      " 221\n",
      "cube: 517\n",
      "square: 69\n",
      "Time: 0.8371832370758057\n"
     ]
    }
   ],
   "source": [
    "from threading import Thread\n",
    "import threading\n",
    "import time\n",
    "\n",
    "i = 5\n",
    "\n",
    "def cal_square(number_arr):\n",
    "    print('Caculate square number\\n')\n",
    "    for n in number_arr:\n",
    "        time.sleep(0.2)\n",
    "        print('square:', n * n + i)\n",
    "\n",
    "def cal_cube(number_arr):\n",
    "    print('Caculate cube number\\n')\n",
    "    for n in number_arr:\n",
    "        time.sleep(0.2)\n",
    "        print('cube:', n * n * n + i)\n",
    "\n",
    "\n",
    "arr = [2, 4, 6, 8]\n",
    "try:\n",
    "    t = time.time()\n",
    "    t1 = threading.Thread(target=cal_square, args=(arr,))\n",
    "    t2 = threading.Thread(target=cal_cube, args=(arr,))\n",
    "    t1.start()\n",
    "    t2.start()\n",
    "    t1.join()\n",
    "    t2.join()\n",
    "    print('Time:', time.time() - t)\n",
    "except:\n",
    "    print('Error')\n",
    "\n"
   ]
  },
  {
   "cell_type": "code",
   "execution_count": 31,
   "metadata": {},
   "outputs": [
    {
     "data": {
      "text/plain": [
       "<_MainThread(MainThread, started 12176)>"
      ]
     },
     "execution_count": 31,
     "metadata": {},
     "output_type": "execute_result"
    }
   ],
   "source": [
    "threading.currentThread()"
   ]
  },
  {
   "cell_type": "code",
   "execution_count": 35,
   "metadata": {},
   "outputs": [
    {
     "name": "stdout",
     "output_type": "stream",
     "text": [
      "Bat dau Thread-2\n",
      "Bat dau Thread-1\n",
      "Thread-2: Mon Jun 26 10:29:48 2023\n",
      "Thread-2: Mon Jun 26 10:29:50 2023\n",
      "Thread-2: Mon Jun 26 10:29:52 2023\n",
      "Thread-2: Mon Jun 26 10:29:54 2023\n",
      "Thread-2: Mon Jun 26 10:29:57 2023\n",
      "Thread-1: Mon Jun 26 10:29:58 2023\n",
      "Thread-1: Mon Jun 26 10:29:59 2023\n",
      "Thread-1: Mon Jun 26 10:30:00 2023\n",
      "Thread-1: Mon Jun 26 10:30:01 2023\n",
      "Thread-1: Mon Jun 26 10:30:02 2023\n",
      "Ket thuc Main Thread\n"
     ]
    }
   ],
   "source": [
    "import threading\n",
    "import time\n",
    "\n",
    "class myThread (threading.Thread):\n",
    "    def __init__(self, threadID, name, counter):\n",
    "        threading.Thread.__init__(self)\n",
    "        self.threadID = threadID\n",
    "        self.name = name\n",
    "        self.counter = counter\n",
    "    def run(self):\n",
    "        print(\"Bat dau \" + self.name)\n",
    "        # Lay lock de dong bo hoa cac thread\n",
    "        threadLock.acquire()\n",
    "        print_time(self.name, self.counter, 5)\n",
    "        # Giai phong lock cho thread ke tiep\n",
    "        threadLock.release()\n",
    "\n",
    "def print_time(threadName, delay, counter):\n",
    "    while counter:\n",
    "        time.sleep(delay)\n",
    "        print(\"%s: %s\" % (threadName, time.ctime(time.time())))\n",
    "        counter -= 1\n",
    "\n",
    "threadLock = threading.Lock()\n",
    "threads = []\n",
    "\n",
    "# Tao cac thread moi\n",
    "thread1 = myThread(1, \"Thread-1\", 1)\n",
    "thread2 = myThread(2, \"Thread-2\", 2)\n",
    "\n",
    "# Bat dau cac thread moi\n",
    "thread2.start()\n",
    "thread1.start()\n",
    "\n",
    "# Them cac thread vao list\n",
    "threads.append(thread1)\n",
    "threads.append(thread2)\n",
    "\n",
    "# Doi cho tat ca thread ket thuc\n",
    "for t in threads:\n",
    "    t.join()\n",
    "print(\"Ket thuc Main Thread\")\n",
    "\n",
    "if __name__ == '__main__':\n",
    "    pass"
   ]
  },
  {
   "cell_type": "code",
   "execution_count": 5,
   "metadata": {},
   "outputs": [
    {
     "name": "stdout",
     "output_type": "stream",
     "text": [
      "5\n"
     ]
    }
   ],
   "source": [
    "import threading\n",
    "\n",
    "# Khởi tạo một biến điều kiện\n",
    "cond = threading.Condition()\n",
    "\n",
    "# Khởi tạo một biến chung\n",
    "shared_data = 0\n",
    "\n",
    "# Định nghĩa một hàm để tăng giá trị của biến chung\n",
    "def increment(n):\n",
    "    global shared_data\n",
    "\n",
    "    # Sử dụng biến điều kiện để đồng bộ hóa truy cập vào biến chung\n",
    "    with cond:\n",
    "        for _ in range(n):\n",
    "            shared_data += 1\n",
    "            # Thông báo cho các thread khác biết rằng dữ liệu đã được thay đổi\n",
    "            cond.notify_all()\n",
    "\n",
    "# Định nghĩa một hàm để in giá trị của biến chung\n",
    "def print_data():\n",
    "    global shared_data\n",
    "\n",
    "    # Sử dụng biến điều kiện để đồng bộ hóa truy cập vào biến chung\n",
    "    with cond:\n",
    "        # Chờ đợi cho đến khi giá trị của biến chung lớn hơn 0\n",
    "        while shared_data <= 0:\n",
    "            cond.wait()\n",
    "        print(shared_data)\n",
    "\n",
    "# Khởi tạo và chạy hai thread\n",
    "t1 = threading.Thread(target=increment, args=(5,))\n",
    "t2 = threading.Thread(target=print_data)\n",
    "t1.start()\n",
    "t2.start()\n",
    "t1.join()\n",
    "t2.join()"
   ]
  },
  {
   "cell_type": "code",
   "execution_count": 1,
   "metadata": {},
   "outputs": [
    {
     "name": "stdout",
     "output_type": "stream",
     "text": [
      "Processing string A\n",
      "Processing string A\n"
     ]
    }
   ],
   "source": [
    "import threading\n",
    "\n",
    "# Khởi tạo các biến điều kiện cho từng chuỗi\n",
    "condA = threading.Condition()\n",
    "condB = threading.Condition()\n",
    "condC = threading.Condition()\n",
    "condD = threading.Condition()\n",
    "\n",
    "# Định nghĩa một hàm để xử lý các chuỗi theo thứ tự\n",
    "def process_strings():\n",
    "    # Xử lý chuỗi A\n",
    "    with condA:\n",
    "        # Xử lý chuỗi A tại đây\n",
    "        print(\"Processing string A\")\n",
    "        # Thông báo cho các thread khác biết rằng chuỗi A đã được xử lý\n",
    "        condA.notify_all()\n",
    "\n",
    "    # Xử lý chuỗi B\n",
    "    with condB:\n",
    "        # Chờ đợi cho đến khi có ít nhất một thread đã hoàn thành việc xử lý chuỗi A\n",
    "        condB.wait()\n",
    "        # Xử lý chuỗi B tại đây\n",
    "        print(\"Processing string B\")\n",
    "        # Thông báo cho các thread khác biết rằng chuỗi B đã được xử lý\n",
    "        condB.notify_all()\n",
    "\n",
    "    # Xử lý chuỗi C\n",
    "    with condC:\n",
    "        # Chờ đợi cho đến khi có ít nhất một thread đã hoàn thành việc xử lý chuỗi B\n",
    "        condC.wait()\n",
    "        # Xử lý chuỗi C tại đây\n",
    "        print(\"Processing string C\")\n",
    "        # Thông báo cho các thread khác biết rằng chuỗi C đã được xử lý\n",
    "        condC.notify_all()\n",
    "\n",
    "    # Xử lý chuỗi D\n",
    "    with condD:\n",
    "        # Chờ đợi cho đến khi có ít nhất một thread đã hoàn thành việc xử lý chuỗi C\n",
    "        condD.wait()\n",
    "        # Xử lý chuỗi D tại đây\n",
    "        print(\"Processing string D\")\n",
    "\n",
    "# Khởi tạo và chạy hai thread\n",
    "t1 = threading.Thread(target=process_strings)\n",
    "t2 = threading.Thread(target=process_strings)\n",
    "t1.start()\n",
    "t2.start()\n",
    "t1.join()\n",
    "t2.join()"
   ]
  }
 ],
 "metadata": {
  "kernelspec": {
   "display_name": "pyspark_env",
   "language": "python",
   "name": "python3"
  },
  "language_info": {
   "codemirror_mode": {
    "name": "ipython",
    "version": 3
   },
   "file_extension": ".py",
   "mimetype": "text/x-python",
   "name": "python",
   "nbconvert_exporter": "python",
   "pygments_lexer": "ipython3",
   "version": "3.9.16"
  },
  "orig_nbformat": 4
 },
 "nbformat": 4,
 "nbformat_minor": 2
}
